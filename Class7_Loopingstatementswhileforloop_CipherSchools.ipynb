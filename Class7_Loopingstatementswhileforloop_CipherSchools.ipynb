{
 "cells": [
  {
   "cell_type": "markdown",
   "metadata": {
    "colab_type": "text",
    "id": "view-in-github"
   },
   "source": [
    "<a href=\"https://colab.research.google.com/github/githubashmit/week1-Python-CipherSchools/blob/main/Class7_Loopingstatementswhileforloop_CipherSchools.ipynb\" target=\"_parent\"><img src=\"https://colab.research.google.com/assets/colab-badge.svg\" alt=\"Open In Colab\"/></a>"
   ]
  },
  {
   "cell_type": "code",
   "execution_count": 1,
   "metadata": {
    "id": "Un8Q7txoKAd9"
   },
   "outputs": [
    {
     "name": "stdout",
     "output_type": "stream",
     "text": [
      "1\n",
      "2\n",
      "3\n",
      "4\n",
      "5\n",
      "6\n",
      "7\n",
      "8\n",
      "9\n"
     ]
    }
   ],
   "source": [
    "a = 1\n",
    "while a < 10:\n",
    "  print(a)\n",
    "  a += 1"
   ]
  },
  {
   "cell_type": "code",
   "execution_count": 2,
   "metadata": {
    "id": "WrJ8Ym6aKEYf"
   },
   "outputs": [],
   "source": [
    "#while battery.notDead():\n",
    "#   pas"
   ]
  },
  {
   "cell_type": "code",
   "execution_count": 3,
   "metadata": {
    "colab": {
     "base_uri": "https://localhost:8080/",
     "height": 165
    },
    "id": "pQyx9TWJKdVm",
    "outputId": "6880d797-978e-40e8-df7e-aca13c0ccbed"
   },
   "outputs": [
    {
     "ename": "TypeError",
     "evalue": "'type' object is not iterable",
     "output_type": "error",
     "traceback": [
      "\u001b[0;31m---------------------------------------------------------------------------\u001b[0m",
      "\u001b[0;31mTypeError\u001b[0m                                 Traceback (most recent call last)",
      "Cell \u001b[0;32mIn[3], line 1\u001b[0m\n\u001b[0;32m----> 1\u001b[0m \u001b[38;5;28;43miter\u001b[39;49m\u001b[43m(\u001b[49m\u001b[38;5;28;43mobject\u001b[39;49m\u001b[43m)\u001b[49m\n",
      "\u001b[0;31mTypeError\u001b[0m: 'type' object is not iterable"
     ]
    }
   ],
   "source": [
    "iter(object)"
   ]
  },
  {
   "cell_type": "code",
   "execution_count": 16,
   "metadata": {
    "colab": {
     "base_uri": "https://localhost:8080/"
    },
    "id": "kSHuUqaWKvnK",
    "outputId": "3948e17b-48da-4cff-fc6b-7495d634861f"
   },
   "outputs": [
    {
     "data": {
      "text/plain": [
       "<method-wrapper '__iter__' of str object at 0x7f90f9fd9a70>"
      ]
     },
     "execution_count": 16,
     "metadata": {},
     "output_type": "execute_result"
    }
   ],
   "source": [
    "a = \"Nishant\"\n",
    "a.__iter__"
   ]
  },
  {
   "cell_type": "code",
   "execution_count": 5,
   "metadata": {
    "colab": {
     "base_uri": "https://localhost:8080/"
    },
    "id": "qbhtOyQuK2ZO",
    "outputId": "be213d3b-dc76-48cd-caba-aed552fc7d1a"
   },
   "outputs": [
    {
     "name": "stdout",
     "output_type": "stream",
     "text": [
      "This is going to be with learning with CipherSchools even with 1\n",
      "This is going to be with learning with CipherSchools even with 3\n",
      "This is going to be with learning with CipherSchools even with 5\n",
      "This is going to be with learning with CipherSchools even with 7\n",
      "This is going to be with learning with CipherSchools even with 9\n",
      "This is going to be with learning with CipherSchools even with 11\n",
      "This is going to be with learning with CipherSchools even with 13\n",
      "This is going to be with learning with CipherSchools even with 15\n",
      "This is going to be with learning with CipherSchools even with 17\n",
      "This is going to be with learning with CipherSchools even with 19\n",
      "This is going to be with learning with CipherSchools even with 21\n",
      "This is going to be with learning with CipherSchools even with 23\n",
      "This is going to be with learning with CipherSchools even with 25\n",
      "This is going to be with learning with CipherSchools even with 27\n",
      "This is going to be with learning with CipherSchools even with 29\n",
      "This is going to be with learning with CipherSchools even with 31\n",
      "This is going to be with learning with CipherSchools even with 33\n",
      "This is going to be with learning with CipherSchools even with 35\n",
      "This is going to be with learning with CipherSchools even with 37\n",
      "This is going to be with learning with CipherSchools even with 39\n",
      "This is going to be with learning with CipherSchools even with 41\n",
      "This is going to be with learning with CipherSchools even with 43\n",
      "This is going to be with learning with CipherSchools even with 45\n",
      "This is going to be with learning with CipherSchools even with 47\n",
      "This is going to be with learning with CipherSchools even with 49\n",
      "This is going to be with learning with CipherSchools even with 51\n",
      "This is going to be with learning with CipherSchools even with 53\n",
      "This is going to be with learning with CipherSchools even with 55\n",
      "This is going to be with learning with CipherSchools even with 57\n",
      "This is going to be with learning with CipherSchools even with 59\n",
      "This is going to be with learning with CipherSchools even with 61\n",
      "This is going to be with learning with CipherSchools even with 63\n",
      "This is going to be with learning with CipherSchools even with 65\n",
      "This is going to be with learning with CipherSchools even with 67\n",
      "This is going to be with learning with CipherSchools even with 69\n",
      "This is going to be with learning with CipherSchools even with 71\n",
      "This is going to be with learning with CipherSchools even with 73\n",
      "This is going to be with learning with CipherSchools even with 75\n",
      "This is going to be with learning with CipherSchools even with 77\n",
      "This is going to be with learning with CipherSchools even with 79\n",
      "This is going to be with learning with CipherSchools even with 81\n",
      "This is going to be with learning with CipherSchools even with 83\n",
      "This is going to be with learning with CipherSchools even with 85\n",
      "This is going to be with learning with CipherSchools even with 87\n",
      "This is going to be with learning with CipherSchools even with 89\n",
      "This is going to be with learning with CipherSchools even with 91\n",
      "This is going to be with learning with CipherSchools even with 93\n",
      "This is going to be with learning with CipherSchools even with 95\n",
      "This is going to be with learning with CipherSchools even with 97\n",
      "This is going to be with learning with CipherSchools even with 99\n",
      "This is going to be with learning with CipherSchools even with 101\n",
      "This is going to be with learning with CipherSchools even with 103\n",
      "This is going to be with learning with CipherSchools even with 105\n",
      "This is going to be with learning with CipherSchools even with 107\n",
      "This is going to be with learning with CipherSchools even with 109\n",
      "This is going to be with learning with CipherSchools even with 111\n",
      "This is going to be with learning with CipherSchools even with 113\n",
      "This is going to be with learning with CipherSchools even with 115\n",
      "This is going to be with learning with CipherSchools even with 117\n",
      "This is going to be with learning with CipherSchools even with 119\n",
      "This is going to be with learning with CipherSchools even with 121\n",
      "This is going to be with learning with CipherSchools even with 123\n",
      "This is going to be with learning with CipherSchools even with 125\n",
      "This is going to be with learning with CipherSchools even with 127\n",
      "This is going to be with learning with CipherSchools even with 129\n",
      "This is going to be with learning with CipherSchools even with 131\n",
      "This is going to be with learning with CipherSchools even with 133\n",
      "This is going to be with learning with CipherSchools even with 135\n",
      "This is going to be with learning with CipherSchools even with 137\n",
      "This is going to be with learning with CipherSchools even with 139\n",
      "This is going to be with learning with CipherSchools even with 141\n",
      "This is going to be with learning with CipherSchools even with 143\n",
      "This is going to be with learning with CipherSchools even with 145\n",
      "This is going to be with learning with CipherSchools even with 147\n",
      "This is going to be with learning with CipherSchools even with 149\n",
      "This is going to be with learning with CipherSchools even with 151\n",
      "This is going to be with learning with CipherSchools even with 153\n",
      "This is going to be with learning with CipherSchools even with 155\n",
      "This is going to be with learning with CipherSchools even with 157\n",
      "This is going to be with learning with CipherSchools even with 159\n",
      "This is going to be with learning with CipherSchools even with 161\n",
      "This is going to be with learning with CipherSchools even with 163\n",
      "This is going to be with learning with CipherSchools even with 165\n",
      "This is going to be with learning with CipherSchools even with 167\n",
      "This is going to be with learning with CipherSchools even with 169\n",
      "This is going to be with learning with CipherSchools even with 171\n",
      "This is going to be with learning with CipherSchools even with 173\n",
      "This is going to be with learning with CipherSchools even with 175\n",
      "This is going to be with learning with CipherSchools even with 177\n",
      "This is going to be with learning with CipherSchools even with 179\n",
      "This is going to be with learning with CipherSchools even with 181\n",
      "This is going to be with learning with CipherSchools even with 183\n",
      "This is going to be with learning with CipherSchools even with 185\n",
      "This is going to be with learning with CipherSchools even with 187\n",
      "This is going to be with learning with CipherSchools even with 189\n",
      "This is going to be with learning with CipherSchools even with 191\n",
      "This is going to be with learning with CipherSchools even with 193\n",
      "This is going to be with learning with CipherSchools even with 195\n",
      "This is going to be with learning with CipherSchools even with 197\n",
      "This is going to be with learning with CipherSchools even with 199\n",
      "This is going to be with learning with CipherSchools even with 201\n",
      "This is going to be with learning with CipherSchools even with 203\n",
      "This is going to be with learning with CipherSchools even with 205\n",
      "This is going to be with learning with CipherSchools even with 207\n",
      "This is going to be with learning with CipherSchools even with 209\n",
      "This is going to be with learning with CipherSchools even with 211\n",
      "This is going to be with learning with CipherSchools even with 213\n",
      "This is going to be with learning with CipherSchools even with 215\n",
      "This is going to be with learning with CipherSchools even with 217\n",
      "This is going to be with learning with CipherSchools even with 219\n",
      "This is going to be with learning with CipherSchools even with 221\n",
      "This is going to be with learning with CipherSchools even with 223\n",
      "This is going to be with learning with CipherSchools even with 225\n",
      "This is going to be with learning with CipherSchools even with 227\n",
      "This is going to be with learning with CipherSchools even with 229\n",
      "This is going to be with learning with CipherSchools even with 231\n",
      "This is going to be with learning with CipherSchools even with 233\n",
      "This is going to be with learning with CipherSchools even with 235\n",
      "This is going to be with learning with CipherSchools even with 237\n",
      "This is going to be with learning with CipherSchools even with 239\n",
      "This is going to be with learning with CipherSchools even with 241\n",
      "This is going to be with learning with CipherSchools even with 243\n",
      "This is going to be with learning with CipherSchools even with 245\n",
      "This is going to be with learning with CipherSchools even with 247\n",
      "This is going to be with learning with CipherSchools even with 249\n",
      "This is going to be with learning with CipherSchools even with 251\n",
      "This is going to be with learning with CipherSchools even with 253\n",
      "This is going to be with learning with CipherSchools even with 255\n",
      "This is going to be with learning with CipherSchools even with 257\n",
      "This is going to be with learning with CipherSchools even with 259\n",
      "This is going to be with learning with CipherSchools even with 261\n",
      "This is going to be with learning with CipherSchools even with 263\n",
      "This is going to be with learning with CipherSchools even with 265\n",
      "This is going to be with learning with CipherSchools even with 267\n",
      "This is going to be with learning with CipherSchools even with 269\n",
      "This is going to be with learning with CipherSchools even with 271\n",
      "This is going to be with learning with CipherSchools even with 273\n",
      "This is going to be with learning with CipherSchools even with 275\n",
      "This is going to be with learning with CipherSchools even with 277\n",
      "This is going to be with learning with CipherSchools even with 279\n",
      "This is going to be with learning with CipherSchools even with 281\n",
      "This is going to be with learning with CipherSchools even with 283\n",
      "This is going to be with learning with CipherSchools even with 285\n",
      "This is going to be with learning with CipherSchools even with 287\n",
      "This is going to be with learning with CipherSchools even with 289\n",
      "This is going to be with learning with CipherSchools even with 291\n",
      "This is going to be with learning with CipherSchools even with 293\n",
      "This is going to be with learning with CipherSchools even with 295\n",
      "This is going to be with learning with CipherSchools even with 297\n",
      "This is going to be with learning with CipherSchools even with 299\n",
      "This is going to be with learning with CipherSchools even with 301\n",
      "This is going to be with learning with CipherSchools even with 303\n",
      "This is going to be with learning with CipherSchools even with 305\n",
      "This is going to be with learning with CipherSchools even with 307\n",
      "This is going to be with learning with CipherSchools even with 309\n",
      "This is going to be with learning with CipherSchools even with 311\n",
      "This is going to be with learning with CipherSchools even with 313\n",
      "This is going to be with learning with CipherSchools even with 315\n",
      "This is going to be with learning with CipherSchools even with 317\n",
      "This is going to be with learning with CipherSchools even with 319\n",
      "This is going to be with learning with CipherSchools even with 321\n",
      "This is going to be with learning with CipherSchools even with 323\n",
      "This is going to be with learning with CipherSchools even with 325\n",
      "This is going to be with learning with CipherSchools even with 327\n",
      "This is going to be with learning with CipherSchools even with 329\n",
      "This is going to be with learning with CipherSchools even with 331\n",
      "This is going to be with learning with CipherSchools even with 333\n",
      "This is going to be with learning with CipherSchools even with 335\n",
      "This is going to be with learning with CipherSchools even with 337\n",
      "This is going to be with learning with CipherSchools even with 339\n",
      "This is going to be with learning with CipherSchools even with 341\n",
      "This is going to be with learning with CipherSchools even with 343\n",
      "This is going to be with learning with CipherSchools even with 345\n",
      "This is going to be with learning with CipherSchools even with 347\n",
      "This is going to be with learning with CipherSchools even with 349\n",
      "This is going to be with learning with CipherSchools even with 351\n",
      "This is going to be with learning with CipherSchools even with 353\n",
      "This is going to be with learning with CipherSchools even with 355\n",
      "This is going to be with learning with CipherSchools even with 357\n",
      "This is going to be with learning with CipherSchools even with 359\n",
      "This is going to be with learning with CipherSchools even with 361\n",
      "This is going to be with learning with CipherSchools even with 363\n",
      "This is going to be with learning with CipherSchools even with 365\n",
      "This is going to be with learning with CipherSchools even with 367\n",
      "This is going to be with learning with CipherSchools even with 369\n",
      "This is going to be with learning with CipherSchools even with 371\n",
      "This is going to be with learning with CipherSchools even with 373\n",
      "This is going to be with learning with CipherSchools even with 375\n",
      "This is going to be with learning with CipherSchools even with 377\n",
      "This is going to be with learning with CipherSchools even with 379\n",
      "This is going to be with learning with CipherSchools even with 381\n",
      "This is going to be with learning with CipherSchools even with 383\n",
      "This is going to be with learning with CipherSchools even with 385\n",
      "This is going to be with learning with CipherSchools even with 387\n",
      "This is going to be with learning with CipherSchools even with 389\n",
      "This is going to be with learning with CipherSchools even with 391\n",
      "This is going to be with learning with CipherSchools even with 393\n",
      "This is going to be with learning with CipherSchools even with 395\n",
      "This is going to be with learning with CipherSchools even with 397\n",
      "This is going to be with learning with CipherSchools even with 399\n",
      "This is going to be with learning with CipherSchools even with 401\n",
      "This is going to be with learning with CipherSchools even with 403\n",
      "This is going to be with learning with CipherSchools even with 405\n",
      "This is going to be with learning with CipherSchools even with 407\n",
      "This is going to be with learning with CipherSchools even with 409\n",
      "This is going to be with learning with CipherSchools even with 411\n",
      "This is going to be with learning with CipherSchools even with 413\n",
      "This is going to be with learning with CipherSchools even with 415\n",
      "This is going to be with learning with CipherSchools even with 417\n",
      "This is going to be with learning with CipherSchools even with 419\n",
      "This is going to be with learning with CipherSchools even with 421\n",
      "This is going to be with learning with CipherSchools even with 423\n",
      "This is going to be with learning with CipherSchools even with 425\n",
      "This is going to be with learning with CipherSchools even with 427\n",
      "This is going to be with learning with CipherSchools even with 429\n",
      "This is going to be with learning with CipherSchools even with 431\n",
      "This is going to be with learning with CipherSchools even with 433\n",
      "This is going to be with learning with CipherSchools even with 435\n",
      "This is going to be with learning with CipherSchools even with 437\n",
      "This is going to be with learning with CipherSchools even with 439\n",
      "This is going to be with learning with CipherSchools even with 441\n",
      "This is going to be with learning with CipherSchools even with 443\n",
      "This is going to be with learning with CipherSchools even with 445\n",
      "This is going to be with learning with CipherSchools even with 447\n",
      "This is going to be with learning with CipherSchools even with 449\n",
      "This is going to be with learning with CipherSchools even with 451\n",
      "This is going to be with learning with CipherSchools even with 453\n",
      "This is going to be with learning with CipherSchools even with 455\n",
      "This is going to be with learning with CipherSchools even with 457\n",
      "This is going to be with learning with CipherSchools even with 459\n",
      "This is going to be with learning with CipherSchools even with 461\n",
      "This is going to be with learning with CipherSchools even with 463\n",
      "This is going to be with learning with CipherSchools even with 465\n",
      "This is going to be with learning with CipherSchools even with 467\n",
      "This is going to be with learning with CipherSchools even with 469\n",
      "This is going to be with learning with CipherSchools even with 471\n",
      "This is going to be with learning with CipherSchools even with 473\n",
      "This is going to be with learning with CipherSchools even with 475\n",
      "This is going to be with learning with CipherSchools even with 477\n",
      "This is going to be with learning with CipherSchools even with 479\n",
      "This is going to be with learning with CipherSchools even with 481\n",
      "This is going to be with learning with CipherSchools even with 483\n",
      "This is going to be with learning with CipherSchools even with 485\n",
      "This is going to be with learning with CipherSchools even with 487\n",
      "This is going to be with learning with CipherSchools even with 489\n",
      "This is going to be with learning with CipherSchools even with 491\n",
      "This is going to be with learning with CipherSchools even with 493\n",
      "This is going to be with learning with CipherSchools even with 495\n",
      "This is going to be with learning with CipherSchools even with 497\n",
      "This is going to be with learning with CipherSchools even with 499\n",
      "This is going to be with learning with CipherSchools even with 501\n",
      "This is going to be with learning with CipherSchools even with 503\n",
      "This is going to be with learning with CipherSchools even with 505\n",
      "This is going to be with learning with CipherSchools even with 507\n",
      "This is going to be with learning with CipherSchools even with 509\n",
      "This is going to be with learning with CipherSchools even with 511\n",
      "This is going to be with learning with CipherSchools even with 513\n",
      "This is going to be with learning with CipherSchools even with 515\n",
      "This is going to be with learning with CipherSchools even with 517\n",
      "This is going to be with learning with CipherSchools even with 519\n",
      "This is going to be with learning with CipherSchools even with 521\n",
      "This is going to be with learning with CipherSchools even with 523\n",
      "This is going to be with learning with CipherSchools even with 525\n",
      "This is going to be with learning with CipherSchools even with 527\n",
      "This is going to be with learning with CipherSchools even with 529\n",
      "This is going to be with learning with CipherSchools even with 531\n",
      "This is going to be with learning with CipherSchools even with 533\n",
      "This is going to be with learning with CipherSchools even with 535\n",
      "This is going to be with learning with CipherSchools even with 537\n",
      "This is going to be with learning with CipherSchools even with 539\n",
      "This is going to be with learning with CipherSchools even with 541\n",
      "This is going to be with learning with CipherSchools even with 543\n",
      "This is going to be with learning with CipherSchools even with 545\n",
      "This is going to be with learning with CipherSchools even with 547\n",
      "This is going to be with learning with CipherSchools even with 549\n",
      "This is going to be with learning with CipherSchools even with 551\n",
      "This is going to be with learning with CipherSchools even with 553\n",
      "This is going to be with learning with CipherSchools even with 555\n",
      "This is going to be with learning with CipherSchools even with 557\n",
      "This is going to be with learning with CipherSchools even with 559\n",
      "This is going to be with learning with CipherSchools even with 561\n",
      "This is going to be with learning with CipherSchools even with 563\n",
      "This is going to be with learning with CipherSchools even with 565\n",
      "This is going to be with learning with CipherSchools even with 567\n",
      "This is going to be with learning with CipherSchools even with 569\n",
      "This is going to be with learning with CipherSchools even with 571\n",
      "This is going to be with learning with CipherSchools even with 573\n",
      "This is going to be with learning with CipherSchools even with 575\n",
      "This is going to be with learning with CipherSchools even with 577\n",
      "This is going to be with learning with CipherSchools even with 579\n",
      "This is going to be with learning with CipherSchools even with 581\n",
      "This is going to be with learning with CipherSchools even with 583\n",
      "This is going to be with learning with CipherSchools even with 585\n",
      "This is going to be with learning with CipherSchools even with 587\n",
      "This is going to be with learning with CipherSchools even with 589\n",
      "This is going to be with learning with CipherSchools even with 591\n",
      "This is going to be with learning with CipherSchools even with 593\n",
      "This is going to be with learning with CipherSchools even with 595\n",
      "This is going to be with learning with CipherSchools even with 597\n",
      "This is going to be with learning with CipherSchools even with 599\n",
      "This is going to be with learning with CipherSchools even with 601\n",
      "This is going to be with learning with CipherSchools even with 603\n",
      "This is going to be with learning with CipherSchools even with 605\n",
      "This is going to be with learning with CipherSchools even with 607\n",
      "This is going to be with learning with CipherSchools even with 609\n",
      "This is going to be with learning with CipherSchools even with 611\n",
      "This is going to be with learning with CipherSchools even with 613\n",
      "This is going to be with learning with CipherSchools even with 615\n",
      "This is going to be with learning with CipherSchools even with 617\n",
      "This is going to be with learning with CipherSchools even with 619\n",
      "This is going to be with learning with CipherSchools even with 621\n",
      "This is going to be with learning with CipherSchools even with 623\n",
      "This is going to be with learning with CipherSchools even with 625\n",
      "This is going to be with learning with CipherSchools even with 627\n",
      "This is going to be with learning with CipherSchools even with 629\n",
      "This is going to be with learning with CipherSchools even with 631\n",
      "This is going to be with learning with CipherSchools even with 633\n",
      "This is going to be with learning with CipherSchools even with 635\n",
      "This is going to be with learning with CipherSchools even with 637\n",
      "This is going to be with learning with CipherSchools even with 639\n",
      "This is going to be with learning with CipherSchools even with 641\n",
      "This is going to be with learning with CipherSchools even with 643\n",
      "This is going to be with learning with CipherSchools even with 645\n",
      "This is going to be with learning with CipherSchools even with 647\n",
      "This is going to be with learning with CipherSchools even with 649\n",
      "This is going to be with learning with CipherSchools even with 651\n",
      "This is going to be with learning with CipherSchools even with 653\n",
      "This is going to be with learning with CipherSchools even with 655\n",
      "This is going to be with learning with CipherSchools even with 657\n",
      "This is going to be with learning with CipherSchools even with 659\n",
      "This is going to be with learning with CipherSchools even with 661\n",
      "This is going to be with learning with CipherSchools even with 663\n",
      "This is going to be with learning with CipherSchools even with 665\n",
      "This is going to be with learning with CipherSchools even with 667\n",
      "This is going to be with learning with CipherSchools even with 669\n",
      "This is going to be with learning with CipherSchools even with 671\n",
      "This is going to be with learning with CipherSchools even with 673\n",
      "This is going to be with learning with CipherSchools even with 675\n",
      "This is going to be with learning with CipherSchools even with 677\n",
      "This is going to be with learning with CipherSchools even with 679\n",
      "This is going to be with learning with CipherSchools even with 681\n",
      "This is going to be with learning with CipherSchools even with 683\n",
      "This is going to be with learning with CipherSchools even with 685\n",
      "This is going to be with learning with CipherSchools even with 687\n",
      "This is going to be with learning with CipherSchools even with 689\n",
      "This is going to be with learning with CipherSchools even with 691\n",
      "This is going to be with learning with CipherSchools even with 693\n",
      "This is going to be with learning with CipherSchools even with 695\n",
      "This is going to be with learning with CipherSchools even with 697\n",
      "This is going to be with learning with CipherSchools even with 699\n",
      "This is going to be with learning with CipherSchools even with 701\n",
      "This is going to be with learning with CipherSchools even with 703\n",
      "This is going to be with learning with CipherSchools even with 705\n",
      "This is going to be with learning with CipherSchools even with 707\n",
      "This is going to be with learning with CipherSchools even with 709\n",
      "This is going to be with learning with CipherSchools even with 711\n",
      "This is going to be with learning with CipherSchools even with 713\n",
      "This is going to be with learning with CipherSchools even with 715\n",
      "This is going to be with learning with CipherSchools even with 717\n",
      "This is going to be with learning with CipherSchools even with 719\n",
      "This is going to be with learning with CipherSchools even with 721\n",
      "This is going to be with learning with CipherSchools even with 723\n",
      "This is going to be with learning with CipherSchools even with 725\n",
      "This is going to be with learning with CipherSchools even with 727\n",
      "This is going to be with learning with CipherSchools even with 729\n",
      "This is going to be with learning with CipherSchools even with 731\n",
      "This is going to be with learning with CipherSchools even with 733\n",
      "This is going to be with learning with CipherSchools even with 735\n",
      "This is going to be with learning with CipherSchools even with 737\n",
      "This is going to be with learning with CipherSchools even with 739\n",
      "This is going to be with learning with CipherSchools even with 741\n",
      "This is going to be with learning with CipherSchools even with 743\n",
      "This is going to be with learning with CipherSchools even with 745\n",
      "This is going to be with learning with CipherSchools even with 747\n",
      "This is going to be with learning with CipherSchools even with 749\n",
      "This is going to be with learning with CipherSchools even with 751\n",
      "This is going to be with learning with CipherSchools even with 753\n",
      "This is going to be with learning with CipherSchools even with 755\n",
      "This is going to be with learning with CipherSchools even with 757\n",
      "This is going to be with learning with CipherSchools even with 759\n",
      "This is going to be with learning with CipherSchools even with 761\n",
      "This is going to be with learning with CipherSchools even with 763\n",
      "This is going to be with learning with CipherSchools even with 765\n",
      "This is going to be with learning with CipherSchools even with 767\n",
      "This is going to be with learning with CipherSchools even with 769\n",
      "This is going to be with learning with CipherSchools even with 771\n",
      "This is going to be with learning with CipherSchools even with 773\n",
      "This is going to be with learning with CipherSchools even with 775\n",
      "This is going to be with learning with CipherSchools even with 777\n",
      "This is going to be with learning with CipherSchools even with 779\n",
      "This is going to be with learning with CipherSchools even with 781\n",
      "This is going to be with learning with CipherSchools even with 783\n",
      "This is going to be with learning with CipherSchools even with 785\n",
      "This is going to be with learning with CipherSchools even with 787\n",
      "This is going to be with learning with CipherSchools even with 789\n",
      "This is going to be with learning with CipherSchools even with 791\n",
      "This is going to be with learning with CipherSchools even with 793\n",
      "This is going to be with learning with CipherSchools even with 795\n",
      "This is going to be with learning with CipherSchools even with 797\n",
      "This is going to be with learning with CipherSchools even with 799\n",
      "This is going to be with learning with CipherSchools even with 801\n",
      "This is going to be with learning with CipherSchools even with 803\n",
      "This is going to be with learning with CipherSchools even with 805\n",
      "This is going to be with learning with CipherSchools even with 807\n",
      "This is going to be with learning with CipherSchools even with 809\n",
      "This is going to be with learning with CipherSchools even with 811\n",
      "This is going to be with learning with CipherSchools even with 813\n",
      "This is going to be with learning with CipherSchools even with 815\n",
      "This is going to be with learning with CipherSchools even with 817\n",
      "This is going to be with learning with CipherSchools even with 819\n",
      "This is going to be with learning with CipherSchools even with 821\n",
      "This is going to be with learning with CipherSchools even with 823\n",
      "This is going to be with learning with CipherSchools even with 825\n",
      "This is going to be with learning with CipherSchools even with 827\n",
      "This is going to be with learning with CipherSchools even with 829\n",
      "This is going to be with learning with CipherSchools even with 831\n",
      "This is going to be with learning with CipherSchools even with 833\n",
      "This is going to be with learning with CipherSchools even with 835\n",
      "This is going to be with learning with CipherSchools even with 837\n",
      "This is going to be with learning with CipherSchools even with 839\n",
      "This is going to be with learning with CipherSchools even with 841\n",
      "This is going to be with learning with CipherSchools even with 843\n",
      "This is going to be with learning with CipherSchools even with 845\n",
      "This is going to be with learning with CipherSchools even with 847\n",
      "This is going to be with learning with CipherSchools even with 849\n",
      "This is going to be with learning with CipherSchools even with 851\n",
      "This is going to be with learning with CipherSchools even with 853\n",
      "This is going to be with learning with CipherSchools even with 855\n",
      "This is going to be with learning with CipherSchools even with 857\n",
      "This is going to be with learning with CipherSchools even with 859\n",
      "This is going to be with learning with CipherSchools even with 861\n",
      "This is going to be with learning with CipherSchools even with 863\n",
      "This is going to be with learning with CipherSchools even with 865\n",
      "This is going to be with learning with CipherSchools even with 867\n",
      "This is going to be with learning with CipherSchools even with 869\n",
      "This is going to be with learning with CipherSchools even with 871\n",
      "This is going to be with learning with CipherSchools even with 873\n",
      "This is going to be with learning with CipherSchools even with 875\n",
      "This is going to be with learning with CipherSchools even with 877\n",
      "This is going to be with learning with CipherSchools even with 879\n",
      "This is going to be with learning with CipherSchools even with 881\n",
      "This is going to be with learning with CipherSchools even with 883\n",
      "This is going to be with learning with CipherSchools even with 885\n",
      "This is going to be with learning with CipherSchools even with 887\n",
      "This is going to be with learning with CipherSchools even with 889\n",
      "This is going to be with learning with CipherSchools even with 891\n",
      "This is going to be with learning with CipherSchools even with 893\n",
      "This is going to be with learning with CipherSchools even with 895\n",
      "This is going to be with learning with CipherSchools even with 897\n",
      "This is going to be with learning with CipherSchools even with 899\n",
      "This is going to be with learning with CipherSchools even with 901\n",
      "This is going to be with learning with CipherSchools even with 903\n",
      "This is going to be with learning with CipherSchools even with 905\n",
      "This is going to be with learning with CipherSchools even with 907\n",
      "This is going to be with learning with CipherSchools even with 909\n",
      "This is going to be with learning with CipherSchools even with 911\n",
      "This is going to be with learning with CipherSchools even with 913\n",
      "This is going to be with learning with CipherSchools even with 915\n",
      "This is going to be with learning with CipherSchools even with 917\n",
      "This is going to be with learning with CipherSchools even with 919\n",
      "This is going to be with learning with CipherSchools even with 921\n",
      "This is going to be with learning with CipherSchools even with 923\n",
      "This is going to be with learning with CipherSchools even with 925\n",
      "This is going to be with learning with CipherSchools even with 927\n",
      "This is going to be with learning with CipherSchools even with 929\n",
      "This is going to be with learning with CipherSchools even with 931\n",
      "This is going to be with learning with CipherSchools even with 933\n",
      "This is going to be with learning with CipherSchools even with 935\n",
      "This is going to be with learning with CipherSchools even with 937\n",
      "This is going to be with learning with CipherSchools even with 939\n",
      "This is going to be with learning with CipherSchools even with 941\n",
      "This is going to be with learning with CipherSchools even with 943\n",
      "This is going to be with learning with CipherSchools even with 945\n",
      "This is going to be with learning with CipherSchools even with 947\n",
      "This is going to be with learning with CipherSchools even with 949\n",
      "This is going to be with learning with CipherSchools even with 951\n",
      "This is going to be with learning with CipherSchools even with 953\n",
      "This is going to be with learning with CipherSchools even with 955\n",
      "This is going to be with learning with CipherSchools even with 957\n",
      "This is going to be with learning with CipherSchools even with 959\n",
      "This is going to be with learning with CipherSchools even with 961\n",
      "This is going to be with learning with CipherSchools even with 963\n",
      "This is going to be with learning with CipherSchools even with 965\n",
      "This is going to be with learning with CipherSchools even with 967\n",
      "This is going to be with learning with CipherSchools even with 969\n",
      "This is going to be with learning with CipherSchools even with 971\n",
      "This is going to be with learning with CipherSchools even with 973\n",
      "This is going to be with learning with CipherSchools even with 975\n",
      "This is going to be with learning with CipherSchools even with 977\n",
      "This is going to be with learning with CipherSchools even with 979\n",
      "This is going to be with learning with CipherSchools even with 981\n",
      "This is going to be with learning with CipherSchools even with 983\n",
      "This is going to be with learning with CipherSchools even with 985\n",
      "This is going to be with learning with CipherSchools even with 987\n",
      "This is going to be with learning with CipherSchools even with 989\n",
      "This is going to be with learning with CipherSchools even with 991\n",
      "This is going to be with learning with CipherSchools even with 993\n",
      "This is going to be with learning with CipherSchools even with 995\n",
      "This is going to be with learning with CipherSchools even with 997\n",
      "This is going to be with learning with CipherSchools even with 999\n"
     ]
    }
   ],
   "source": [
    "for i in range(1,1000,2):\n",
    "  print(\"This is going to be with learning with CipherSchools even with {}\".format(i))"
   ]
  },
  {
   "cell_type": "code",
   "execution_count": 6,
   "metadata": {
    "id": "V7Mmj_7mK9dx"
   },
   "outputs": [
    {
     "ename": "NameError",
     "evalue": "name 'name' is not defined",
     "output_type": "error",
     "traceback": [
      "\u001b[0;31m---------------------------------------------------------------------------\u001b[0m",
      "\u001b[0;31mNameError\u001b[0m                                 Traceback (most recent call last)",
      "Cell \u001b[0;32mIn[6], line 1\u001b[0m\n\u001b[0;32m----> 1\u001b[0m \u001b[38;5;28mprint\u001b[39m(\u001b[38;5;28mtype\u001b[39m(\u001b[43mname\u001b[49m))\n\u001b[1;32m      2\u001b[0m \u001b[38;5;28mprint\u001b[39m(\u001b[38;5;124m\"\u001b[39m\u001b[38;5;124m***\u001b[39m\u001b[38;5;124m\"\u001b[39m)\n\u001b[1;32m      4\u001b[0m \u001b[38;5;28;01mfor\u001b[39;00m c \u001b[38;5;129;01min\u001b[39;00m name:\n",
      "\u001b[0;31mNameError\u001b[0m: name 'name' is not defined"
     ]
    }
   ],
   "source": [
    "print(type(name))\n",
    "print(\"***\")\n",
    "\n",
    "for c in name:\n",
    "   print(c)\n",
    "   print(type(c))"
   ]
  },
  {
   "cell_type": "code",
   "execution_count": 7,
   "metadata": {
    "id": "em5eEPCyK-JK"
   },
   "outputs": [
    {
     "name": "stdout",
     "output_type": "stream",
     "text": [
      "0\n",
      "1\n",
      "2\n",
      "3\n",
      "4\n"
     ]
    }
   ],
   "source": [
    "for i in range(5):\n",
    "  print(i)"
   ]
  },
  {
   "cell_type": "code",
   "execution_count": 8,
   "metadata": {
    "id": "1EriasT9LAyI"
   },
   "outputs": [
    {
     "name": "stdout",
     "output_type": "stream",
     "text": [
      "range(0, 5)\n"
     ]
    }
   ],
   "source": [
    "a = range(5)\n",
    "print(a)"
   ]
  },
  {
   "cell_type": "code",
   "execution_count": 9,
   "metadata": {
    "id": "U8XwwchyLC_X"
   },
   "outputs": [
    {
     "name": "stdout",
     "output_type": "stream",
     "text": [
      "0\n",
      "1\n",
      "2\n",
      "3\n"
     ]
    }
   ],
   "source": [
    "for i in range(5):\n",
    "  print(i)\n",
    "  if i ==3:\n",
    "    break"
   ]
  },
  {
   "cell_type": "code",
   "execution_count": 10,
   "metadata": {
    "id": "SqTIIPjtLFgR"
   },
   "outputs": [
    {
     "name": "stdout",
     "output_type": "stream",
     "text": [
      "0\n",
      "1\n",
      "2\n",
      "3\n"
     ]
    }
   ],
   "source": [
    "for i in range(5):\n",
    "  print(i)\n",
    "  if i ==3:\n",
    "    break"
   ]
  },
  {
   "cell_type": "code",
   "execution_count": 11,
   "metadata": {
    "colab": {
     "base_uri": "https://localhost:8080/"
    },
    "id": "Ug38VTeZLIhi",
    "outputId": "7cc417aa-7690-45b7-d3c2-52313e1aa81e"
   },
   "outputs": [
    {
     "name": "stdout",
     "output_type": "stream",
     "text": [
      "0\n",
      "1\n",
      "2\n",
      "3\n",
      "4\n"
     ]
    }
   ],
   "source": [
    "for i in range(5):\n",
    "  print(i)\n",
    "  del i"
   ]
  },
  {
   "cell_type": "code",
   "execution_count": 12,
   "metadata": {
    "colab": {
     "base_uri": "https://localhost:8080/"
    },
    "id": "yS0V-LkwLRIA",
    "outputId": "ada3c0a2-2ffb-4cdb-c020-7059ddb27a4f"
   },
   "outputs": [
    {
     "name": "stdout",
     "output_type": "stream",
     "text": [
      "0\n",
      "100\n",
      "1\n",
      "100\n",
      "2\n",
      "100\n",
      "3\n",
      "100\n",
      "4\n",
      "100\n"
     ]
    }
   ],
   "source": [
    "for i in range(5):\n",
    "  print(i)\n",
    "  i = 100\n",
    "  print(i)"
   ]
  },
  {
   "cell_type": "code",
   "execution_count": 13,
   "metadata": {
    "id": "mTIVJ7cvLSEi"
   },
   "outputs": [
    {
     "name": "stdout",
     "output_type": "stream",
     "text": [
      "rest of the code\n"
     ]
    }
   ],
   "source": [
    "if True:\n",
    "  \"\"\"hfkguhrgouk\"\"\"\n",
    "  print(\"rest of the code\")"
   ]
  },
  {
   "cell_type": "code",
   "execution_count": 14,
   "metadata": {
    "id": "QPMngbSBLX6U"
   },
   "outputs": [
    {
     "name": "stdout",
     "output_type": "stream",
     "text": [
      "0\n",
      "1\n",
      "2\n",
      "3\n",
      "4\n",
      "something\n"
     ]
    }
   ],
   "source": [
    "for i in range(5):\n",
    "  print(i)\n",
    "else:\n",
    "  print(\"something\")"
   ]
  },
  {
   "cell_type": "code",
   "execution_count": 15,
   "metadata": {
    "id": "ZgYNH7uDLYaN"
   },
   "outputs": [
    {
     "name": "stdout",
     "output_type": "stream",
     "text": [
      "0\n",
      "1\n",
      "2\n",
      "3\n"
     ]
    }
   ],
   "source": [
    "for i in range(5):\n",
    "  print(i)\n",
    "  if i ==3:\n",
    "    break\n",
    "else:\n",
    "  print(\"something\")"
   ]
  }
 ],
 "metadata": {
  "colab": {
   "authorship_tag": "ABX9TyPgOQ5TsuagCFtk9kAUUf3x",
   "include_colab_link": true,
   "provenance": []
  },
  "kernelspec": {
   "display_name": "Python 3 (ipykernel)",
   "language": "python",
   "name": "python3"
  },
  "language_info": {
   "codemirror_mode": {
    "name": "ipython",
    "version": 3
   },
   "file_extension": ".py",
   "mimetype": "text/x-python",
   "name": "python",
   "nbconvert_exporter": "python",
   "pygments_lexer": "ipython3",
   "version": "3.10.6"
  }
 },
 "nbformat": 4,
 "nbformat_minor": 1
}
