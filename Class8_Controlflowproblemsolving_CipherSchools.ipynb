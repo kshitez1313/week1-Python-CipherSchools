{
 "cells": [
  {
   "cell_type": "markdown",
   "metadata": {
    "colab_type": "text",
    "id": "view-in-github"
   },
   "source": [
    "<a href=\"https://colab.research.google.com/github/githubashmit/week1-Python-CipherSchools/blob/main/Class8_Controlflowproblemsolving_CipherSchools.ipynb\" target=\"_parent\"><img src=\"https://colab.research.google.com/assets/colab-badge.svg\" alt=\"Open In Colab\"/></a>"
   ]
  },
  {
   "cell_type": "code",
   "execution_count": 1,
   "metadata": {
    "id": "e878k-OVLtNL"
   },
   "outputs": [
    {
     "name": "stdout",
     "output_type": "stream",
     "text": [
      "0 0 0 0 0 \n",
      "1 1 1 1 1 \n",
      "2 2 2 2 2 \n",
      "3 3 3 3 3 \n",
      "4 4 4 4 4 \n"
     ]
    }
   ],
   "source": [
    "n = 5\n",
    "for i in range(n):\n",
    "    for j in range(n):\n",
    "        print(i, end = \" \")\n",
    "    print()"
   ]
  },
  {
   "cell_type": "code",
   "execution_count": 2,
   "metadata": {
    "id": "845b6NP7L3xM"
   },
   "outputs": [
    {
     "name": "stdout",
     "output_type": "stream",
     "text": [
      "0 \n",
      "0 \n",
      "0 \n",
      "0 \n",
      "0 \n",
      "1 \n",
      "1 \n",
      "1 \n",
      "1 \n",
      "1 \n",
      "2 \n",
      "2 \n",
      "2 \n",
      "2 \n",
      "2 \n",
      "3 \n",
      "3 \n",
      "3 \n",
      "3 \n",
      "3 \n",
      "4 \n",
      "4 \n",
      "4 \n",
      "4 \n",
      "4 \n"
     ]
    }
   ],
   "source": [
    "n = 5\n",
    "for i in range(n):\n",
    "  for j in range(n):\n",
    "    print(i, end = \" \")\n",
    "    print()"
   ]
  },
  {
   "cell_type": "code",
   "execution_count": 3,
   "metadata": {
    "id": "Rjmzay9CL55g"
   },
   "outputs": [
    {
     "name": "stdout",
     "output_type": "stream",
     "text": [
      "5 4 3 2 1 \n",
      "5 4 3 2 1 \n",
      "5 4 3 2 1 \n",
      "5 4 3 2 1 \n",
      "5 4 3 2 1 \n"
     ]
    }
   ],
   "source": [
    "n = 5\n",
    "for i in range(n):\n",
    "    for j in range(n):\n",
    "        print(n-j, end = \" \")\n",
    "    print()"
   ]
  },
  {
   "cell_type": "code",
   "execution_count": 4,
   "metadata": {
    "id": "xtEuZboaL8Uc"
   },
   "outputs": [
    {
     "name": "stdout",
     "output_type": "stream",
     "text": [
      "4 3 2 1 0 \n",
      "4 3 2 1 0 \n",
      "4 3 2 1 0 \n",
      "4 3 2 1 0 \n",
      "4 3 2 1 0 \n"
     ]
    }
   ],
   "source": [
    "n = 5\n",
    "for i in range(n):\n",
    "    for j in range(n):\n",
    "        print(n-j-1, end = \" \")\n",
    "    print()"
   ]
  },
  {
   "cell_type": "code",
   "execution_count": 5,
   "metadata": {
    "id": "XI1hmE3FL-Yd"
   },
   "outputs": [
    {
     "name": "stdout",
     "output_type": "stream",
     "text": [
      "1 2 3 4 5 \n",
      "1 2 3 4 5 \n",
      "1 2 3 4 5 \n",
      "1 2 3 4 5 \n",
      "1 2 3 4 5 \n"
     ]
    }
   ],
   "source": [
    "n = 5\n",
    "for i in range(n):\n",
    "    for j in range(n):\n",
    "        print(j+1, end = \" \")\n",
    "    print()"
   ]
  },
  {
   "cell_type": "code",
   "execution_count": 6,
   "metadata": {
    "id": "mvwbddW_MAqz"
   },
   "outputs": [
    {
     "data": {
      "text/plain": [
       "7"
      ]
     },
     "execution_count": 6,
     "metadata": {},
     "output_type": "execute_result"
    }
   ],
   "source": [
    "max(1, 2, 3, 4, 5, 7)"
   ]
  },
  {
   "cell_type": "code",
   "execution_count": 7,
   "metadata": {
    "id": "Lknky9ScMCzI"
   },
   "outputs": [
    {
     "name": "stdout",
     "output_type": "stream",
     "text": [
      "18 18 18 18 18 18 18 18 18 18 18 18 18 18 18 18 18 18 \n",
      "18 17 17 17 17 17 17 17 17 17 17 17 17 17 17 17 17 18 \n",
      "18 17 16 16 16 16 16 16 16 16 16 16 16 16 16 16 17 18 \n",
      "18 17 16 15 15 15 15 15 15 15 15 15 15 15 15 16 17 18 \n",
      "18 17 16 15 14 14 14 14 14 14 14 14 14 14 15 16 17 18 \n",
      "18 17 16 15 14 13 13 13 13 13 13 13 13 14 15 16 17 18 \n",
      "18 17 16 15 14 13 12 12 12 12 12 12 13 14 15 16 17 18 \n",
      "18 17 16 15 14 13 12 11 11 11 11 12 13 14 15 16 17 18 \n",
      "18 17 16 15 14 13 12 11 10 10 11 12 13 14 15 16 17 18 \n",
      "18 17 16 15 14 13 12 11 10 10 11 12 13 14 15 16 17 18 \n",
      "18 17 16 15 14 13 12 11 11 11 11 12 13 14 15 16 17 18 \n",
      "18 17 16 15 14 13 12 12 12 12 12 12 13 14 15 16 17 18 \n",
      "18 17 16 15 14 13 13 13 13 13 13 13 13 14 15 16 17 18 \n",
      "18 17 16 15 14 14 14 14 14 14 14 14 14 14 15 16 17 18 \n",
      "18 17 16 15 15 15 15 15 15 15 15 15 15 15 15 16 17 18 \n",
      "18 17 16 16 16 16 16 16 16 16 16 16 16 16 16 16 17 18 \n",
      "18 17 17 17 17 17 17 17 17 17 17 17 17 17 17 17 17 18 \n",
      "18 18 18 18 18 18 18 18 18 18 18 18 18 18 18 18 18 18 \n"
     ]
    }
   ],
   "source": [
    "n = 18\n",
    "for i in range(n):\n",
    "    for j in range(n):\n",
    "        print(max(i+1, j+1, n-i, n-j), end = \" \")\n",
    "    print()"
   ]
  },
  {
   "cell_type": "code",
   "execution_count": 8,
   "metadata": {
    "colab": {
     "base_uri": "https://localhost:8080/"
    },
    "id": "3G8-aoYvMFFd",
    "outputId": "ff36ebaf-5a26-49cf-b1f1-1d08a8eeee8d"
   },
   "outputs": [
    {
     "name": "stdout",
     "output_type": "stream",
     "text": [
      "(0, 0) (0, 1) (0, 2) (0, 3) (0, 4) \n",
      "(1, 0) (1, 1) (1, 2) (1, 3) (1, 4) \n",
      "(2, 0) (2, 1) (2, 2) (2, 3) (2, 4) \n",
      "(3, 0) (3, 1) (3, 2) (3, 3) (3, 4) \n",
      "(4, 0) (4, 1) (4, 2) (4, 3) (4, 4) \n"
     ]
    }
   ],
   "source": [
    "n = 5\n",
    "for i in range(n):\n",
    "    for j in range(n):\n",
    "      i, j\n",
    "      print((i,j), end = \" \")\n",
    "    print()"
   ]
  },
  {
   "cell_type": "code",
   "execution_count": 9,
   "metadata": {
    "id": "JvZITpFdMOyY"
   },
   "outputs": [
    {
     "name": "stdout",
     "output_type": "stream",
     "text": [
      "0 0 0 0 0 \n",
      "1 1 1 1 1 \n",
      "2 2 2 2 2 \n",
      "3 3 3 3 3 \n",
      "4 4 4 4 4 \n"
     ]
    }
   ],
   "source": [
    "for i in range(n):\n",
    "    for j in range(n):\n",
    "        print(i, end = \" \")\n",
    "    print()"
   ]
  },
  {
   "cell_type": "code",
   "execution_count": 10,
   "metadata": {
    "id": "QtOfLuTCMRP_"
   },
   "outputs": [
    {
     "name": "stdout",
     "output_type": "stream",
     "text": [
      "0 1 2 3 4 \n",
      "0 1 2 3 4 \n",
      "0 1 2 3 4 \n",
      "0 1 2 3 4 \n",
      "0 1 2 3 4 \n"
     ]
    }
   ],
   "source": [
    "n = 5\n",
    "for i in range(n):\n",
    "    for j in range(n):\n",
    "        print(j, end = \" \")\n",
    "    print()"
   ]
  },
  {
   "cell_type": "code",
   "execution_count": 11,
   "metadata": {
    "id": "aBVPirP1MRwm"
   },
   "outputs": [
    {
     "name": "stdout",
     "output_type": "stream",
     "text": [
      "0 1 2 3 4 \n",
      "1 1 2 3 4 \n",
      "2 2 2 3 4 \n",
      "3 3 3 3 4 \n",
      "4 4 4 4 4 \n"
     ]
    }
   ],
   "source": [
    "n = 5\n",
    "for i in range(n):\n",
    "    for j in range(n):\n",
    "        print(max(i,j), end = \" \")\n",
    "    print()"
   ]
  },
  {
   "cell_type": "code",
   "execution_count": 12,
   "metadata": {
    "id": "L3EtwWEzMT81"
   },
   "outputs": [
    {
     "name": "stdout",
     "output_type": "stream",
     "text": [
      "5 5 5 5 5 \n",
      "4 4 4 4 4 \n",
      "3 3 3 3 3 \n",
      "2 2 2 2 2 \n",
      "1 1 1 1 1 \n"
     ]
    }
   ],
   "source": [
    "n = 5\n",
    "for i in range(n):\n",
    "    for j in range(n):\n",
    "        print(n-i, end = \" \")\n",
    "    print()"
   ]
  },
  {
   "cell_type": "code",
   "execution_count": 13,
   "metadata": {
    "id": "FL_7-4z7MWKi"
   },
   "outputs": [
    {
     "name": "stdout",
     "output_type": "stream",
     "text": [
      "4 4 4 4 4 \n",
      "3 3 3 3 3 \n",
      "2 2 2 2 2 \n",
      "1 1 1 1 1 \n",
      "0 0 0 0 0 \n"
     ]
    }
   ],
   "source": [
    "n = 5\n",
    "for i in range(n):\n",
    "    for j in range(n):\n",
    "        print(n-i-1, end = \" \")\n",
    "    print()"
   ]
  },
  {
   "cell_type": "code",
   "execution_count": 14,
   "metadata": {
    "id": "G9t4YDUcMYTi"
   },
   "outputs": [
    {
     "name": "stdout",
     "output_type": "stream",
     "text": [
      "4 3 2 1 0 \n",
      "4 3 2 1 0 \n",
      "4 3 2 1 0 \n",
      "4 3 2 1 0 \n",
      "4 3 2 1 0 \n"
     ]
    }
   ],
   "source": [
    "n = 5\n",
    "for i in range(n):\n",
    "    for j in range(n):\n",
    "        print(n-j-1, end = \" \")\n",
    "    print()"
   ]
  },
  {
   "cell_type": "code",
   "execution_count": 15,
   "metadata": {
    "id": "ITEICyVgMahf"
   },
   "outputs": [
    {
     "name": "stdout",
     "output_type": "stream",
     "text": [
      "4 4 4 4 4 \n",
      "4 3 3 3 3 \n",
      "4 3 2 2 2 \n",
      "4 3 2 1 1 \n",
      "4 3 2 1 0 \n"
     ]
    }
   ],
   "source": [
    "n = 5\n",
    "for i in range(n):\n",
    "    for j in range(n):\n",
    "        print(max(n-j-1, n-i-1), end = \" \")\n",
    "    print()"
   ]
  },
  {
   "cell_type": "code",
   "execution_count": 16,
   "metadata": {
    "id": "y_UuP_pdMdK_"
   },
   "outputs": [
    {
     "name": "stdout",
     "output_type": "stream",
     "text": [
      "5 5 5 5 5 \n",
      "5 4 4 4 5 \n",
      "5 4 3 4 5 \n",
      "5 4 4 4 5 \n",
      "5 5 5 5 5 \n"
     ]
    }
   ],
   "source": [
    "n = 5\n",
    "for i in range(n):\n",
    "    for j in range(n):\n",
    "        print(\n",
    "            max(max(i+1, j+1),max(n-j, n-i)\n",
    "        ), end = \" \")\n",
    "    print()"
   ]
  },
  {
   "cell_type": "code",
   "execution_count": 17,
   "metadata": {
    "id": "3vdQiAUnMfY8"
   },
   "outputs": [
    {
     "data": {
      "text/plain": [
       "50"
      ]
     },
     "execution_count": 17,
     "metadata": {},
     "output_type": "execute_result"
    }
   ],
   "source": [
    "sum([1, 2, 3, 4, 5, 5, 6, 7, 8, 9])"
   ]
  }
 ],
 "metadata": {
  "colab": {
   "authorship_tag": "ABX9TyMy6kOSCV8RGIDkLOhm4nlq",
   "include_colab_link": true,
   "provenance": []
  },
  "kernelspec": {
   "display_name": "Python 3 (ipykernel)",
   "language": "python",
   "name": "python3"
  },
  "language_info": {
   "codemirror_mode": {
    "name": "ipython",
    "version": 3
   },
   "file_extension": ".py",
   "mimetype": "text/x-python",
   "name": "python",
   "nbconvert_exporter": "python",
   "pygments_lexer": "ipython3",
   "version": "3.10.6"
  }
 },
 "nbformat": 4,
 "nbformat_minor": 1
}
